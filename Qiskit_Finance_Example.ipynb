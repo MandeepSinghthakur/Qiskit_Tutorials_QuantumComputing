{
 "cells": [
  {
   "cell_type": "code",
   "execution_count": 4,
   "metadata": {},
   "outputs": [],
   "source": [
    "import numpy as np\n",
    "from qiskit import BasicAer\n",
    "from qiskit.aqua.components.uncertainty_models import MultivariateNormalDistribution\n",
    "from qiskit.finance.components.uncertainty_problems import FixedIncomeExpectedValue\n",
    "from qiskit.aqua.algorithms.single_sample.amplitude_estimation.ae import AmplitudeEstimation"
   ]
  },
  {
   "cell_type": "code",
   "execution_count": 6,
   "metadata": {},
   "outputs": [],
   "source": [
    "#Create a suitable multivariate distribution\n",
    "\n",
    "mvnd = MultivariateNormalDistribution(num_qubits=[2,2], low=[0,0], high=[0.12,0.24], mu=[0.12,0.24], sigma=0.01 * np.eye(2))"
   ]
  },
  {
   "cell_type": "code",
   "execution_count": 7,
   "metadata": {},
   "outputs": [],
   "source": [
    "#Create fixed income component\n",
    "fixed_income = FixedIncomeExpectedValue(mvnd, np.eye(2), np.zeros(2), cash_flow=[1.0, 2.0], c_approx=0.125)"
   ]
  },
  {
   "cell_type": "code",
   "execution_count": 8,
   "metadata": {},
   "outputs": [],
   "source": [
    "#Set number of evaluation qubits\n",
    "num_eval_qubits = 5"
   ]
  },
  {
   "cell_type": "code",
   "execution_count": 9,
   "metadata": {},
   "outputs": [],
   "source": [
    "#Construct and run amplitude estimation\n",
    "algo = AmplitudeEstimation(num_eval_qubits, fixed_income)\n",
    "result = algo.run(BasicAer.get_backend('statevector_simulator'))"
   ]
  },
  {
   "cell_type": "code",
   "execution_count": 10,
   "metadata": {},
   "outputs": [
    {
     "name": "stdout",
     "output_type": "stream",
     "text": [
      "Estimated value: \t2.460000\n",
      "Probability: \t0.848732\n"
     ]
    }
   ],
   "source": [
    "print('Estimated value: \\t%4f' % result['estimation'])\n",
    "print('Probability: \\t%4f' % result['max_probability'])"
   ]
  },
  {
   "cell_type": "code",
   "execution_count": null,
   "metadata": {},
   "outputs": [],
   "source": []
  }
 ],
 "metadata": {
  "kernelspec": {
   "display_name": "Python 3",
   "language": "python",
   "name": "python3"
  },
  "language_info": {
   "codemirror_mode": {
    "name": "ipython",
    "version": 3
   },
   "file_extension": ".py",
   "mimetype": "text/x-python",
   "name": "python",
   "nbconvert_exporter": "python",
   "pygments_lexer": "ipython3",
   "version": "3.6.10"
  }
 },
 "nbformat": 4,
 "nbformat_minor": 4
}
