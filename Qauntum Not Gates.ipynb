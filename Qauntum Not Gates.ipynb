{
 "cells": [
  {
   "cell_type": "markdown",
   "metadata": {},
   "source": [
    "In classical programming, a NOT gate turns a 0 but into a 1 bit, and vice versa. THe quantum version of not gate is X gate, often referred to as the PAULI-x GATE. It turns a qubit in a Dirac notation key by |0> into |1> and vice versa.The X gate also operates on quantum states that are in some combination, or superposition of the |0> and |1> computational basis states."
   ]
  },
  {
   "cell_type": "code",
   "execution_count": 8,
   "metadata": {},
   "outputs": [],
   "source": [
    "import numpy as np\n",
    "from qiskit import QuantumCircuit,ClassicalRegister, QuantumRegister\n",
    "from qiskit import execute"
   ]
  },
  {
   "cell_type": "code",
   "execution_count": 22,
   "metadata": {},
   "outputs": [
    {
     "data": {
      "image/png": "[encoded data removed]",
      "text/plain": [
       "<Figure size 244.412x144.48 with 1 Axes>"
      ]
     },
     "execution_count": 22,
     "metadata": {},
     "output_type": "execute_result"
    }
   ],
   "source": [
    "# Create a quantum register with 1 qubit(wire)\n",
    "qr = QuantumRegister(1)\n",
    "\n",
    "# Create a classical register with 1 bit (double wire)\n",
    "cr = ClassicalRegister(1)\n",
    "\n",
    "#Create a Quantum Circuit from the quantum and classical registers\n",
    "circ = QuantumCircuit(qr, cr)\n",
    "\n",
    "#Place an X gate on the qubit wire. The registers are zero indexed\n",
    "circ.x(qr[0])\n",
    "\n",
    "#Measure the result\n",
    "circ.measure(qr,cr)\n",
    "\n",
    "#Draw the circuit\n",
    "circ.draw(output='mpl')"
   ]
  },
  {
   "cell_type": "markdown",
   "metadata": {},
   "source": [
    "Now that quantum circuit has been defined and drawn, let's execute it on a quantum simulator, running the circuit 100 times.\n",
    "Each run and measurement of the circuit is called a shot"
   ]
  },
  {
   "cell_type": "code",
   "execution_count": 23,
   "metadata": {},
   "outputs": [
    {
     "name": "stdout",
     "output_type": "stream",
     "text": [
      "{'1': 100}\n"
     ]
    }
   ],
   "source": [
    "#Import basicAer\n",
    "from qiskit import BasicAer\n",
    "\n",
    "#Use BasicAer's qasm_simulator\n",
    "backend_sim = BasicAer.get_backend('qasm_simulator')\n",
    "\n",
    "# Execute the circuit on the qasm simulator, running it 100 times\n",
    "job_sim = execute(circ, backend_sim, shots=100)\n",
    "\n",
    "# Grab the results from the job\n",
    "result_sim = job_sim.result()\n",
    "\n",
    "# Print the counts, which are contained i in a Python dictonary\n",
    "counts = result_sim.get_counts(circ)\n",
    "print(counts)"
   ]
  },
  {
   "cell_type": "code",
   "execution_count": 24,
   "metadata": {},
   "outputs": [
    {
     "data": {
      "image/png": "[encoded data removed]",
      "text/plain": [
       "<Figure size 504x360 with 1 Axes>"
      ]
     },
     "execution_count": 24,
     "metadata": {},
     "output_type": "execute_result"
    }
   ],
   "source": [
    "from qiskit.tools.visualization import plot_histogram\n",
    "plot_histogram(counts)"
   ]
  },
  {
   "cell_type": "markdown",
   "metadata": {},
   "source": [
    "# Two NOT gates"
   ]
  },
  {
   "cell_type": "code",
   "execution_count": 34,
   "metadata": {},
   "outputs": [
    {
     "data": {
      "image/png": "[encoded data removed]",
      "text/plain": [
       "<Figure size 315.448x144.48 with 1 Axes>"
      ]
     },
     "execution_count": 34,
     "metadata": {},
     "output_type": "execute_result"
    }
   ],
   "source": [
    "# Create a quantum register with 1 qubit(wire)\n",
    "qr = QuantumRegister(1)\n",
    "\n",
    "# Create a classical register with 1 bit (double wire)\n",
    "cr = ClassicalRegister(1)\n",
    "\n",
    "#Create a Quantum Circuit from the quantum and classical registers\n",
    "circ = QuantumCircuit(qr, cr)\n",
    "\n",
    "#Place an X gate on the qubit wire. The registers are zero indexed\n",
    "circ.x(qr[0])\n",
    "#Place an X gate on the qubit wire. The registers are zero indexed\n",
    "circ.x(qr[0])\n",
    "circ.measure(qr,cr)\n",
    "\n",
    "#Draw the circuit\n",
    "circ.draw(output='mpl')"
   ]
  },
  {
   "cell_type": "code",
   "execution_count": 35,
   "metadata": {},
   "outputs": [
    {
     "name": "stdout",
     "output_type": "stream",
     "text": [
      "{'0': 100}\n"
     ]
    }
   ],
   "source": [
    "#Import basicAer\n",
    "from qiskit import BasicAer\n",
    "\n",
    "#Use BasicAer's qasm_simulator\n",
    "backend_sim = BasicAer.get_backend('qasm_simulator')\n",
    "\n",
    "# Execute the circuit on the qasm simulator, running it 100 times\n",
    "job_sim = execute(circ, backend_sim, shots=100)\n",
    "\n",
    "# Grab the results from the job\n",
    "result_sim = job_sim.result()\n",
    "\n",
    "# Print the counts, which are contained i in a Python dictonary\n",
    "counts = result_sim.get_counts(circ)\n",
    "print(counts)"
   ]
  },
  {
   "cell_type": "code",
   "execution_count": 36,
   "metadata": {},
   "outputs": [
    {
     "data": {
      "image/png": "[encoded data removed]",
      "text/plain": [
       "<Figure size 504x360 with 1 Axes>"
      ]
     },
     "execution_count": 36,
     "metadata": {},
     "output_type": "execute_result"
    }
   ],
   "source": [
    "from qiskit.tools.visualization import plot_histogram\n",
    "plot_histogram(counts)"
   ]
  },
  {
   "cell_type": "code",
   "execution_count": null,
   "metadata": {},
   "outputs": [],
   "source": []
  }
 ],
 "metadata": {
  "kernelspec": {
   "display_name": "Python 3",
   "language": "python",
   "name": "python3"
  },
  "language_info": {
   "codemirror_mode": {
    "name": "ipython",
    "version": 3
   },
   "file_extension": ".py",
   "mimetype": "text/x-python",
   "name": "python",
   "nbconvert_exporter": "python",
   "pygments_lexer": "ipython3",
   "version": "3.6.10"
  }
 },
 "nbformat": 4,
 "nbformat_minor": 4
}
